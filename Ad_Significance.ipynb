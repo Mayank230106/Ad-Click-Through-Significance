{
  "nbformat": 4,
  "nbformat_minor": 0,
  "metadata": {
    "colab": {
      "provenance": []
    },
    "kernelspec": {
      "name": "python3",
      "display_name": "Python 3"
    },
    "language_info": {
      "name": "python"
    }
  },
  "cells": [
    {
      "cell_type": "markdown",
      "source": [
        "**OBJECTIVE:**"
      ],
      "metadata": {
        "id": "2B0sGD9HTQTd"
      }
    },
    {
      "cell_type": "markdown",
      "source": [
        "*We are trying to find out if we can get a color that significantly improves the ad-click rate in this project. We will discover whether doing this is even possible and whether the enormous amout of data we have is of any use to us or not.*"
      ],
      "metadata": {
        "id": "7DhMddrRSxaY"
      }
    },
    {
      "cell_type": "markdown",
      "source": [
        "First we need to get the csv file to work with."
      ],
      "metadata": {
        "id": "f7jbpI3xRU6r"
      }
    },
    {
      "cell_type": "code",
      "execution_count": 72,
      "metadata": {
        "colab": {
          "base_uri": "https://localhost:8080/",
          "height": 73
        },
        "id": "eARkFHn__h9G",
        "outputId": "d7eed710-e4a8-4af4-b1e9-d825662171f0"
      },
      "outputs": [
        {
          "output_type": "display_data",
          "data": {
            "text/plain": [
              "<IPython.core.display.HTML object>"
            ],
            "text/html": [
              "\n",
              "     <input type=\"file\" id=\"files-eb4a446a-805c-40d5-a317-7880f2329be7\" name=\"files[]\" multiple disabled\n",
              "        style=\"border:none\" />\n",
              "     <output id=\"result-eb4a446a-805c-40d5-a317-7880f2329be7\">\n",
              "      Upload widget is only available when the cell has been executed in the\n",
              "      current browser session. Please rerun this cell to enable.\n",
              "      </output>\n",
              "      <script>// Copyright 2017 Google LLC\n",
              "//\n",
              "// Licensed under the Apache License, Version 2.0 (the \"License\");\n",
              "// you may not use this file except in compliance with the License.\n",
              "// You may obtain a copy of the License at\n",
              "//\n",
              "//      http://www.apache.org/licenses/LICENSE-2.0\n",
              "//\n",
              "// Unless required by applicable law or agreed to in writing, software\n",
              "// distributed under the License is distributed on an \"AS IS\" BASIS,\n",
              "// WITHOUT WARRANTIES OR CONDITIONS OF ANY KIND, either express or implied.\n",
              "// See the License for the specific language governing permissions and\n",
              "// limitations under the License.\n",
              "\n",
              "/**\n",
              " * @fileoverview Helpers for google.colab Python module.\n",
              " */\n",
              "(function(scope) {\n",
              "function span(text, styleAttributes = {}) {\n",
              "  const element = document.createElement('span');\n",
              "  element.textContent = text;\n",
              "  for (const key of Object.keys(styleAttributes)) {\n",
              "    element.style[key] = styleAttributes[key];\n",
              "  }\n",
              "  return element;\n",
              "}\n",
              "\n",
              "// Max number of bytes which will be uploaded at a time.\n",
              "const MAX_PAYLOAD_SIZE = 100 * 1024;\n",
              "\n",
              "function _uploadFiles(inputId, outputId) {\n",
              "  const steps = uploadFilesStep(inputId, outputId);\n",
              "  const outputElement = document.getElementById(outputId);\n",
              "  // Cache steps on the outputElement to make it available for the next call\n",
              "  // to uploadFilesContinue from Python.\n",
              "  outputElement.steps = steps;\n",
              "\n",
              "  return _uploadFilesContinue(outputId);\n",
              "}\n",
              "\n",
              "// This is roughly an async generator (not supported in the browser yet),\n",
              "// where there are multiple asynchronous steps and the Python side is going\n",
              "// to poll for completion of each step.\n",
              "// This uses a Promise to block the python side on completion of each step,\n",
              "// then passes the result of the previous step as the input to the next step.\n",
              "function _uploadFilesContinue(outputId) {\n",
              "  const outputElement = document.getElementById(outputId);\n",
              "  const steps = outputElement.steps;\n",
              "\n",
              "  const next = steps.next(outputElement.lastPromiseValue);\n",
              "  return Promise.resolve(next.value.promise).then((value) => {\n",
              "    // Cache the last promise value to make it available to the next\n",
              "    // step of the generator.\n",
              "    outputElement.lastPromiseValue = value;\n",
              "    return next.value.response;\n",
              "  });\n",
              "}\n",
              "\n",
              "/**\n",
              " * Generator function which is called between each async step of the upload\n",
              " * process.\n",
              " * @param {string} inputId Element ID of the input file picker element.\n",
              " * @param {string} outputId Element ID of the output display.\n",
              " * @return {!Iterable<!Object>} Iterable of next steps.\n",
              " */\n",
              "function* uploadFilesStep(inputId, outputId) {\n",
              "  const inputElement = document.getElementById(inputId);\n",
              "  inputElement.disabled = false;\n",
              "\n",
              "  const outputElement = document.getElementById(outputId);\n",
              "  outputElement.innerHTML = '';\n",
              "\n",
              "  const pickedPromise = new Promise((resolve) => {\n",
              "    inputElement.addEventListener('change', (e) => {\n",
              "      resolve(e.target.files);\n",
              "    });\n",
              "  });\n",
              "\n",
              "  const cancel = document.createElement('button');\n",
              "  inputElement.parentElement.appendChild(cancel);\n",
              "  cancel.textContent = 'Cancel upload';\n",
              "  const cancelPromise = new Promise((resolve) => {\n",
              "    cancel.onclick = () => {\n",
              "      resolve(null);\n",
              "    };\n",
              "  });\n",
              "\n",
              "  // Wait for the user to pick the files.\n",
              "  const files = yield {\n",
              "    promise: Promise.race([pickedPromise, cancelPromise]),\n",
              "    response: {\n",
              "      action: 'starting',\n",
              "    }\n",
              "  };\n",
              "\n",
              "  cancel.remove();\n",
              "\n",
              "  // Disable the input element since further picks are not allowed.\n",
              "  inputElement.disabled = true;\n",
              "\n",
              "  if (!files) {\n",
              "    return {\n",
              "      response: {\n",
              "        action: 'complete',\n",
              "      }\n",
              "    };\n",
              "  }\n",
              "\n",
              "  for (const file of files) {\n",
              "    const li = document.createElement('li');\n",
              "    li.append(span(file.name, {fontWeight: 'bold'}));\n",
              "    li.append(span(\n",
              "        `(${file.type || 'n/a'}) - ${file.size} bytes, ` +\n",
              "        `last modified: ${\n",
              "            file.lastModifiedDate ? file.lastModifiedDate.toLocaleDateString() :\n",
              "                                    'n/a'} - `));\n",
              "    const percent = span('0% done');\n",
              "    li.appendChild(percent);\n",
              "\n",
              "    outputElement.appendChild(li);\n",
              "\n",
              "    const fileDataPromise = new Promise((resolve) => {\n",
              "      const reader = new FileReader();\n",
              "      reader.onload = (e) => {\n",
              "        resolve(e.target.result);\n",
              "      };\n",
              "      reader.readAsArrayBuffer(file);\n",
              "    });\n",
              "    // Wait for the data to be ready.\n",
              "    let fileData = yield {\n",
              "      promise: fileDataPromise,\n",
              "      response: {\n",
              "        action: 'continue',\n",
              "      }\n",
              "    };\n",
              "\n",
              "    // Use a chunked sending to avoid message size limits. See b/62115660.\n",
              "    let position = 0;\n",
              "    do {\n",
              "      const length = Math.min(fileData.byteLength - position, MAX_PAYLOAD_SIZE);\n",
              "      const chunk = new Uint8Array(fileData, position, length);\n",
              "      position += length;\n",
              "\n",
              "      const base64 = btoa(String.fromCharCode.apply(null, chunk));\n",
              "      yield {\n",
              "        response: {\n",
              "          action: 'append',\n",
              "          file: file.name,\n",
              "          data: base64,\n",
              "        },\n",
              "      };\n",
              "\n",
              "      let percentDone = fileData.byteLength === 0 ?\n",
              "          100 :\n",
              "          Math.round((position / fileData.byteLength) * 100);\n",
              "      percent.textContent = `${percentDone}% done`;\n",
              "\n",
              "    } while (position < fileData.byteLength);\n",
              "  }\n",
              "\n",
              "  // All done.\n",
              "  yield {\n",
              "    response: {\n",
              "      action: 'complete',\n",
              "    }\n",
              "  };\n",
              "}\n",
              "\n",
              "scope.google = scope.google || {};\n",
              "scope.google.colab = scope.google.colab || {};\n",
              "scope.google.colab._files = {\n",
              "  _uploadFiles,\n",
              "  _uploadFilesContinue,\n",
              "};\n",
              "})(self);\n",
              "</script> "
            ]
          },
          "metadata": {}
        },
        {
          "output_type": "stream",
          "name": "stdout",
          "text": [
            "Saving colored_ad_click_table.csv to colored_ad_click_table (4).csv\n"
          ]
        }
      ],
      "source": [
        "from google.colab import files\n",
        "uploaded = files.upload()"
      ]
    },
    {
      "cell_type": "markdown",
      "source": [
        "We need to import all the necessary modules we are going to use in this project."
      ],
      "metadata": {
        "id": "28qpNVZnRbXk"
      }
    },
    {
      "cell_type": "code",
      "source": [
        "import pandas as pd\n",
        "import numpy as np\n",
        "import matplotlib.pyplot as plt\n",
        "import seaborn as sns"
      ],
      "metadata": {
        "id": "ZBw6up4MBTDU"
      },
      "execution_count": 73,
      "outputs": []
    },
    {
      "cell_type": "markdown",
      "source": [
        "We will not put the csv file in a dataframe which we are going to work with."
      ],
      "metadata": {
        "id": "Hml_0ZOwRsha"
      }
    },
    {
      "cell_type": "code",
      "source": [
        "df = pd.read_csv('colored_ad_click_table.csv')"
      ],
      "metadata": {
        "id": "DzmzNIgBBIZW"
      },
      "execution_count": 74,
      "outputs": []
    },
    {
      "cell_type": "code",
      "source": [
        "num_rows,\tnum_cols\t=\tdf.shape\n",
        "print(f\"Table contains {num_rows} rows and {num_cols} columns\")"
      ],
      "metadata": {
        "colab": {
          "base_uri": "https://localhost:8080/"
        },
        "id": "Zxp7gJVLCXSu",
        "outputId": "a2cacb8f-726d-4e7f-9792-cce120c04563"
      },
      "execution_count": 75,
      "outputs": [
        {
          "output_type": "stream",
          "name": "stdout",
          "text": [
            "Table contains 30 rows and 41 columns\n"
          ]
        }
      ]
    },
    {
      "cell_type": "markdown",
      "source": [
        "We need to check for certain values necessary to conduct this study of ours."
      ],
      "metadata": {
        "id": "9dg2evNyR5sy"
      }
    },
    {
      "cell_type": "code",
      "source": [
        "df.columns"
      ],
      "metadata": {
        "colab": {
          "base_uri": "https://localhost:8080/"
        },
        "id": "H4BDVN6cCppo",
        "outputId": "05d2785f-cdff-4e0c-81f8-5b21574a82bf"
      },
      "execution_count": 76,
      "outputs": [
        {
          "output_type": "execute_result",
          "data": {
            "text/plain": [
              "Index(['Color', 'Click Count: Day 1', 'View Count: Day 1',\n",
              "       'Click Count: Day 2', 'View Count: Day 2', 'Click Count: Day 3',\n",
              "       'View Count: Day 3', 'Click Count: Day 4', 'View Count: Day 4',\n",
              "       'Click Count: Day 5', 'View Count: Day 5', 'Click Count: Day 6',\n",
              "       'View Count: Day 6', 'Click Count: Day 7', 'View Count: Day 7',\n",
              "       'Click Count: Day 8', 'View Count: Day 8', 'Click Count: Day 9',\n",
              "       'View Count: Day 9', 'Click Count: Day 10', 'View Count: Day 10',\n",
              "       'Click Count: Day 11', 'View Count: Day 11', 'Click Count: Day 12',\n",
              "       'View Count: Day 12', 'Click Count: Day 13', 'View Count: Day 13',\n",
              "       'Click Count: Day 14', 'View Count: Day 14', 'Click Count: Day 15',\n",
              "       'View Count: Day 15', 'Click Count: Day 16', 'View Count: Day 16',\n",
              "       'Click Count: Day 17', 'View Count: Day 17', 'Click Count: Day 18',\n",
              "       'View Count: Day 18', 'Click Count: Day 19', 'View Count: Day 19',\n",
              "       'Click Count: Day 20', 'View Count: Day 20'],\n",
              "      dtype='object')"
            ]
          },
          "metadata": {},
          "execution_count": 76
        }
      ]
    },
    {
      "cell_type": "code",
      "source": [
        "df.Color.values"
      ],
      "metadata": {
        "colab": {
          "base_uri": "https://localhost:8080/"
        },
        "id": "ahkmVwYmC_b5",
        "outputId": "d90e94f3-0128-4507-b6b4-da3cda67e30c"
      },
      "execution_count": 77,
      "outputs": [
        {
          "output_type": "execute_result",
          "data": {
            "text/plain": [
              "array(['Pink', 'Gray', 'Sapphire', 'Purple', 'Coral', 'Olive', 'Navy',\n",
              "       'Maroon', 'Teal', 'Cyan', 'Orange', 'Black', 'Tan', 'Red', 'Blue',\n",
              "       'Brown', 'Turquoise', 'Indigo', 'Gold', 'Jade', 'Ultramarine',\n",
              "       'Yellow', 'Virdian', 'Violet', 'Green', 'Aquamarine', 'Magenta',\n",
              "       'Silver', 'Bronze', 'Lime'], dtype=object)"
            ]
          },
          "metadata": {},
          "execution_count": 77
        }
      ]
    },
    {
      "cell_type": "markdown",
      "source": [
        "Day 1 is summerized below."
      ],
      "metadata": {
        "id": "pWIsZxkCSDQQ"
      }
    },
    {
      "cell_type": "code",
      "source": [
        "selected_columns = ['Color', 'Click Count: Day 1', 'View Count: Day 1']\n",
        "print(df[selected_columns].describe())"
      ],
      "metadata": {
        "colab": {
          "base_uri": "https://localhost:8080/"
        },
        "id": "CG_b_97RDPo_",
        "outputId": "f23f9fa0-f13a-48ef-fee0-097e0026f64c"
      },
      "execution_count": 78,
      "outputs": [
        {
          "output_type": "stream",
          "name": "stdout",
          "text": [
            "       Click Count: Day 1  View Count: Day 1\n",
            "count           30.000000               30.0\n",
            "mean            23.533333              100.0\n",
            "std              7.454382                0.0\n",
            "min             12.000000              100.0\n",
            "25%             19.250000              100.0\n",
            "50%             24.000000              100.0\n",
            "75%             26.750000              100.0\n",
            "max             49.000000              100.0\n"
          ]
        }
      ]
    },
    {
      "cell_type": "markdown",
      "source": [
        "We will now check if every daily view(s) is 100, and if it is, then we drop all the daily views columns to irradicate unnecessary calculations."
      ],
      "metadata": {
        "id": "d7E-Y_qhSLAL"
      }
    },
    {
      "cell_type": "code",
      "source": [
        "view_columns = [column for column in df.columns if 'View' in column]\n",
        "assert np.all(df[view_columns].values == 100)"
      ],
      "metadata": {
        "id": "DtzwhfmADP3e"
      },
      "execution_count": 79,
      "outputs": []
    },
    {
      "cell_type": "code",
      "source": [
        "df.drop(columns=view_columns, inplace=True)\n",
        "df.columns"
      ],
      "metadata": {
        "colab": {
          "base_uri": "https://localhost:8080/"
        },
        "id": "BSgc69KDDP6H",
        "outputId": "f1e1c6d3-17ea-4e76-8f32-a91e0289bb00"
      },
      "execution_count": 80,
      "outputs": [
        {
          "output_type": "execute_result",
          "data": {
            "text/plain": [
              "Index(['Color', 'Click Count: Day 1', 'Click Count: Day 2',\n",
              "       'Click Count: Day 3', 'Click Count: Day 4', 'Click Count: Day 5',\n",
              "       'Click Count: Day 6', 'Click Count: Day 7', 'Click Count: Day 8',\n",
              "       'Click Count: Day 9', 'Click Count: Day 10', 'Click Count: Day 11',\n",
              "       'Click Count: Day 12', 'Click Count: Day 13', 'Click Count: Day 14',\n",
              "       'Click Count: Day 15', 'Click Count: Day 16', 'Click Count: Day 17',\n",
              "       'Click Count: Day 18', 'Click Count: Day 19', 'Click Count: Day 20'],\n",
              "      dtype='object')"
            ]
          },
          "metadata": {},
          "execution_count": 80
        }
      ]
    },
    {
      "cell_type": "markdown",
      "source": [
        "We are taking blue as our default value and we will consider it against 29 different colors."
      ],
      "metadata": {
        "id": "cImt5S92UMAi"
      }
    },
    {
      "cell_type": "code",
      "source": [
        "df.set_index('Color',\tinplace=True)\n",
        "df.T.Blue.describe()"
      ],
      "metadata": {
        "colab": {
          "base_uri": "https://localhost:8080/",
          "height": 335
        },
        "id": "nrzP-XRvTfS7",
        "outputId": "ff8a2df9-f712-403c-84d7-8da550f08e0a"
      },
      "execution_count": 81,
      "outputs": [
        {
          "output_type": "execute_result",
          "data": {
            "text/plain": [
              "count    20.000000\n",
              "mean     28.350000\n",
              "std       5.499043\n",
              "min      18.000000\n",
              "25%      25.750000\n",
              "50%      27.500000\n",
              "75%      30.250000\n",
              "max      42.000000\n",
              "Name: Blue, dtype: float64"
            ],
            "text/html": [
              "<div>\n",
              "<style scoped>\n",
              "    .dataframe tbody tr th:only-of-type {\n",
              "        vertical-align: middle;\n",
              "    }\n",
              "\n",
              "    .dataframe tbody tr th {\n",
              "        vertical-align: top;\n",
              "    }\n",
              "\n",
              "    .dataframe thead th {\n",
              "        text-align: right;\n",
              "    }\n",
              "</style>\n",
              "<table border=\"1\" class=\"dataframe\">\n",
              "  <thead>\n",
              "    <tr style=\"text-align: right;\">\n",
              "      <th></th>\n",
              "      <th>Blue</th>\n",
              "    </tr>\n",
              "  </thead>\n",
              "  <tbody>\n",
              "    <tr>\n",
              "      <th>count</th>\n",
              "      <td>20.000000</td>\n",
              "    </tr>\n",
              "    <tr>\n",
              "      <th>mean</th>\n",
              "      <td>28.350000</td>\n",
              "    </tr>\n",
              "    <tr>\n",
              "      <th>std</th>\n",
              "      <td>5.499043</td>\n",
              "    </tr>\n",
              "    <tr>\n",
              "      <th>min</th>\n",
              "      <td>18.000000</td>\n",
              "    </tr>\n",
              "    <tr>\n",
              "      <th>25%</th>\n",
              "      <td>25.750000</td>\n",
              "    </tr>\n",
              "    <tr>\n",
              "      <th>50%</th>\n",
              "      <td>27.500000</td>\n",
              "    </tr>\n",
              "    <tr>\n",
              "      <th>75%</th>\n",
              "      <td>30.250000</td>\n",
              "    </tr>\n",
              "    <tr>\n",
              "      <th>max</th>\n",
              "      <td>42.000000</td>\n",
              "    </tr>\n",
              "  </tbody>\n",
              "</table>\n",
              "</div><br><label><b>dtype:</b> float64</label>"
            ]
          },
          "metadata": {},
          "execution_count": 81
        }
      ]
    },
    {
      "cell_type": "markdown",
      "source": [
        "Below is the creation of a table without the blue values."
      ],
      "metadata": {
        "id": "IIC7_q0-UYbj"
      }
    },
    {
      "cell_type": "code",
      "source": [
        "df_not_blue = df.T.drop(columns='Blue')\n",
        "print(df_not_blue.head(2))"
      ],
      "metadata": {
        "colab": {
          "base_uri": "https://localhost:8080/"
        },
        "id": "-blYVWkhDP_a",
        "outputId": "78e78d80-9b9e-4a89-cdc2-cd1b6e71c097"
      },
      "execution_count": 83,
      "outputs": [
        {
          "output_type": "stream",
          "name": "stdout",
          "text": [
            "Color               Pink  Gray  Sapphire  Purple  Coral  Olive  Navy  Maroon  \\\n",
            "Click Count: Day 1    21    27        30      26     26     26    38      21   \n",
            "Click Count: Day 2    20    27        32      21     24     19    29      29   \n",
            "\n",
            "Color               Teal  Cyan  ...  Ultramarine  Yellow  Virdian  Violet  \\\n",
            "Click Count: Day 1    25    24  ...           49      14       27      15   \n",
            "Click Count: Day 2    25    22  ...           41      24       23      22   \n",
            "\n",
            "Color               Green  Aquamarine  Magenta  Silver  Bronze  Lime  \n",
            "Click Count: Day 1     14          24       18      26      19    20  \n",
            "Click Count: Day 2     25          28       21      24      19    19  \n",
            "\n",
            "[2 rows x 29 columns]\n"
          ]
        }
      ]
    },
    {
      "cell_type": "markdown",
      "source": [
        "We'll run a permutation test between blue and the other 29 colors. Then we'll sort these colors based on their p-value results. My outputs are visualized as a heatmap , to better emphasize the differences between p-values."
      ],
      "metadata": {
        "id": "Oqb1DpOQUl3d"
      }
    },
    {
      "cell_type": "code",
      "source": [
        "def\tpermutation_test(array_a,\tarray_b):\n",
        "  mean_a = array_a.mean()\n",
        "  mean_b = array_b.mean()\n",
        "  extreme_mean_diff = abs(mean_a - mean_b)\n",
        "  total_data = np.hstack([array_a, array_b])\n",
        "  number_extreme_values = 0.0\n",
        "  for _ in range(30000):\n",
        "    np.random.shuffle(total_data)\n",
        "    sample_a = total_data[:array_a.size]\n",
        "    sample_b = total_data[array_a.size:]\n",
        "    if abs(sample_a.mean() - sample_b.mean()) >= extreme_mean_diff:\n",
        "      number_extreme_values += 1\n",
        "  p_value = number_extreme_values / 30000\n",
        "  return p_value"
      ],
      "metadata": {
        "id": "1FWpUsw-DQBy"
      },
      "execution_count": 84,
      "outputs": []
    },
    {
      "cell_type": "code",
      "source": [
        "np.random.seed(0)\n",
        "blue_clicks = df.T.Blue.values\n",
        "color_to_p_value = {}\n",
        "for color, color_clicks in df_not_blue.items():\n",
        "  p_value\t=\tpermutation_test(blue_clicks,\tcolor_clicks)\n",
        "  color_to_p_value[color]\t=\tp_value\n",
        "sorted_colors, sorted_p_values = zip(*sorted(color_to_p_value.items(),key=lambda\tx: x[1]))\n",
        "plt.figure(figsize=(3, 10))\n",
        "sns.heatmap([[p_value] for p_value in sorted_p_values],\n",
        "\t\t\t\t\t\t\t\t\t\t\t\tcmap='YlGnBu',\tannot=True,\txticklabels=['p-value'],\n",
        "\t\t\t\t\t\t\t\t\t\t\t\tyticklabels=sorted_colors)\n",
        "plt.show()"
      ],
      "metadata": {
        "colab": {
          "base_uri": "https://localhost:8080/",
          "height": 830
        },
        "id": "XJpEl_QkDQFM",
        "outputId": "5da7cf6d-f384-4fd4-8294-67105d7f5ce0"
      },
      "execution_count": 85,
      "outputs": [
        {
          "output_type": "display_data",
          "data": {
            "text/plain": [
              "<Figure size 300x1000 with 2 Axes>"
            ],
            "image/png": "[encoded data removed]"
          },
          "metadata": {}
        }
      ]
    },
    {
      "cell_type": "markdown",
      "source": [
        "Finding the mean click rate of black below."
      ],
      "metadata": {
        "id": "qACPYKVEU7VM"
      }
    },
    {
      "cell_type": "code",
      "source": [
        "mean_black = df_not_blue.Black.mean()\n",
        "print(f\"Mean click-rate of black is {mean_black}\")"
      ],
      "metadata": {
        "colab": {
          "base_uri": "https://localhost:8080/"
        },
        "id": "H55LIS62HQ9X",
        "outputId": "688f17be-ef57-4528-e8e1-9d1694c8740c"
      },
      "execution_count": 86,
      "outputs": [
        {
          "output_type": "stream",
          "name": "stdout",
          "text": [
            "Mean click-rate of black is 21.6\n"
          ]
        }
      ]
    },
    {
      "cell_type": "markdown",
      "source": [
        "Now we will filter out inferior colors to blue based on click rate of these colors. After doing this, we will end up with colors more attractive than blue for ads."
      ],
      "metadata": {
        "id": "CQ3s4d_VVEub"
      }
    },
    {
      "cell_type": "code",
      "source": [
        "remaining_colors = df[df.T.mean().values > blue_clicks.mean()].index\n",
        "size = remaining_colors.size\n",
        "print(f\"{size} colors have on average more clicks than Blue.\")\n",
        "print(\"These colors are:\")\n",
        "print(remaining_colors.values)"
      ],
      "metadata": {
        "colab": {
          "base_uri": "https://localhost:8080/"
        },
        "id": "9iuuTOh9HRKI",
        "outputId": "fe689e8b-e7c4-4647-b865-10500d707536"
      },
      "execution_count": 87,
      "outputs": [
        {
          "output_type": "stream",
          "name": "stdout",
          "text": [
            "5 colors have on average more clicks than Blue.\n",
            "These colors are:\n",
            "['Sapphire' 'Navy' 'Teal' 'Ultramarine' 'Aquamarine']\n"
          ]
        }
      ]
    },
    {
      "cell_type": "code",
      "source": [
        "for color, p_value in sorted(color_to_p_value.items(), key=lambda x: x[1]):\n",
        "  if color in remaining_colors:\n",
        "    mean = df_not_blue[color].mean()\n",
        "    print(f\"{color} has a p-value of {p_value} and a mean of {mean}\")"
      ],
      "metadata": {
        "colab": {
          "base_uri": "https://localhost:8080/"
        },
        "id": "R8WYblxuHRUZ",
        "outputId": "6bf74b45-a325-4148-e468-e377fe3f2a6b"
      },
      "execution_count": 88,
      "outputs": [
        {
          "output_type": "stream",
          "name": "stdout",
          "text": [
            "Ultramarine has a p-value of 0.0034 and a mean of 34.2\n",
            "Navy has a p-value of 0.5911666666666666 and a mean of 29.3\n",
            "Aquamarine has a p-value of 0.6654666666666667 and a mean of 29.2\n",
            "Sapphire has a p-value of 0.7457666666666667 and a mean of 28.9\n",
            "Teal has a p-value of 0.9745 and a mean of 28.45\n"
          ]
        }
      ]
    },
    {
      "cell_type": "markdown",
      "source": [
        "Four of the colors have large\tp-values.\tOnly one color has a p-value that's small. That\tcolor\tis ultramarine:\ta\tspecial\tshade\tof blue. Its mean\tof 34.2\tis\tgreater\tthan blue's\tmean of\t28.35. Ultramarine's p-value is\t0.0034.\tIt's more\tthan 10\ttimes\tlower\tthan the standard\tsignificance level of\t0.05.\tHowever,\tthat significance\tlevel\tdoes not take\tinto account our\n",
        "comparisons between blue\tand\t29 other colors. Each\tcomparison is\tan\n",
        "experiment testing whether a color differs from\tblue.\tIf we\trun\n",
        "enough experiments, then we\tare\tguaranteed to\tencounter\ta\tlow\tp-value\tsooner\tor later.\tThe\tbest way to\tcorrect\tfor\tthis is\tto execute a\n",
        "Bonferroni correction; otherwise,\twe will\tfall victim\tto p-value hacking.\tTo\tcarry\tout\ta\tBonferroni correction, we\tlower\tthe\tsignificance\n",
        "level\tto 0.05\t/\t29."
      ],
      "metadata": {
        "id": "Q1-_xnpFI39_"
      }
    },
    {
      "cell_type": "code",
      "source": [
        "#Bonferroni correction\n",
        "significance_level = 0.05 / 29\n",
        "print(f\"Adjusted significance level is {significance_level}\")\n",
        "if color_to_p_value['Ultramarine'] <= significance_level:\n",
        "  print(\"Our p-value is statistically\tsignificant\")\n",
        "else:\n",
        "  print(\"Our p-value is not statistically significant\")"
      ],
      "metadata": {
        "colab": {
          "base_uri": "https://localhost:8080/"
        },
        "id": "2FDg0O49HRgg",
        "outputId": "3eaaced4-8276-43bd-ed4e-3655bb393f35"
      },
      "execution_count": 89,
      "outputs": [
        {
          "output_type": "stream",
          "name": "stdout",
          "text": [
            "Adjusted significance level is 0.001724137931034483\n",
            "Our p-value is not statistically significant\n"
          ]
        }
      ]
    },
    {
      "cell_type": "code",
      "source": [
        "hypothetical_sig_level = 0.05 / 5\n",
        "print(f\"Hypothetical significance level is {hypothetical_sig_level}\")\n",
        "if color_to_p_value['Ultramarine'] <= hypothetical_sig_level:\n",
        "  print(\"Our hypothetical p-value would have been statistically significant\")\n",
        "else:\n",
        "  print(\"Our hypothetical p-value would not have been statistically significant\")"
      ],
      "metadata": {
        "colab": {
          "base_uri": "https://localhost:8080/"
        },
        "id": "gUsb3L4yKpGF",
        "outputId": "a7bbefe9-5bd3-42a5-c945-e07ff06e5d24"
      },
      "execution_count": 90,
      "outputs": [
        {
          "output_type": "stream",
          "name": "stdout",
          "text": [
            "Hypothetical significance level is 0.01\n",
            "Our hypothetical p-value would have been statistically significant\n"
          ]
        }
      ]
    },
    {
      "cell_type": "markdown",
      "source": [
        "*SUMMARY:*"
      ],
      "metadata": {
        "id": "8yNF4DL3MvDU"
      }
    },
    {
      "cell_type": "markdown",
      "source": [
        "1.   More data isn't always better.\n",
        "2.   Running a pointless surplus of analytic tests increases the chance of anomalous results. It's worth taking the time to think about a problem before running an analysis. If we had carefully considered the 30 colors, we would have realized that it was pointless to test them all. Many colors make ugly links. Colors like black are very unlikely to yield more clicks than blue. Filtering the color set would have led to a more informative test.\n",
        "3. Even though our experiment was flawed, we still managed to extract a useful insight. Ultramarine might prove to be a reasonable substitute for blue, though more testing is required. Occasionally, data scientists are presented with flawed data, but good insights may still be possible."
      ],
      "metadata": {
        "id": "spl58dbrL3bF"
      }
    }
  ]
}